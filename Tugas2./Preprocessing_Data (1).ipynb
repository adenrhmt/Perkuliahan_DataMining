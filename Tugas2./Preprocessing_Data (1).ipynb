{
  "cells": [
    {
      "cell_type": "code",
      "source": [
        "import numpy as np\n",
        "import matplotlib.pyplot as plt\n",
        "import pandas as pd"
      ],
      "metadata": {
        "id": "SavPicrJH1ft"
      },
      "execution_count": 1,
      "outputs": []
    },
    {
      "cell_type": "code",
      "source": [
        "dataset = pd.read_excel('Data.csv.xlsx')\n",
        "x = dataset.iloc[[0,1,2,3,4,5,6,7,8,9,10],[0,1,3,4,5,6,7,8,9]]\n",
        "y = dataset.iloc[[0,1,2,3,4,5,6,7,8,9,10],[2]]"
      ],
      "metadata": {
        "id": "Lhjj-fZuITHJ"
      },
      "execution_count": 21,
      "outputs": []
    },
    {
      "cell_type": "code",
      "source": [
        "print(x)"
      ],
      "metadata": {
        "colab": {
          "base_uri": "https://localhost:8080/"
        },
        "id": "1zVCjpZwQatM",
        "outputId": "45c04f78-cda1-45c0-8fa5-e3f9d17dbf61"
      },
      "execution_count": 19,
      "outputs": [
        {
          "output_type": "stream",
          "name": "stdout",
          "text": [
            "    SNo  Name                Date        High         Low        Open  \\\n",
            "0     1  Aave 2020-10-05 23:59:59  5511235847  4978789992  5267503496   \n",
            "1     2  Aave 2020-10-06 23:59:59  5340227002  4073457791  5329196931   \n",
            "2     3  Aave 2020-10-07 23:59:59  4240831364  3597068975  4239994711   \n",
            "3     4  Aave 2020-10-08 23:59:59  4490251114  3669605677  3988526234   \n",
            "4     5  Aave 2020-10-09 23:59:59  4756953274   432917758  4376446306   \n",
            "5     6  Aave 2020-10-10 23:59:59   514056548  4670332768  4681814554   \n",
            "6     7  Aave 2020-10-11 23:59:59  5145337431  4871603954  4913312951   \n",
            "7     8  Aave 2020-10-12 23:59:59  5442141763  4875407708  4966157329   \n",
            "8     9  Aave 2020-10-13 23:59:59  5748190422  4959873521  5223839242   \n",
            "9    10  Aave 2020-10-14 23:59:59  5785394649  4962952942  5137289869   \n",
            "10   11  Aave 2020-10-15 23:59:59  5208068541  4401832531  5138760962   \n",
            "\n",
            "         Close        Volume     Marketcap  \n",
            "0   5321924296  0.000000e+00  8.912813e+15  \n",
            "1   4240159861  5.830915e+12  7.101144e+15  \n",
            "2   4008397561  6.828342e+13  6.713004e+15  \n",
            "3   4376446306  1.658817e+14  2.202651e+16  \n",
            "4   4681774415  8.155377e+12  2.356322e+16  \n",
            "5   4913371767  1.074627e+14  2.472884e+16  \n",
            "6   4966072573  6.921506e+13  2.499408e+16  \n",
            "7   5223869222  1.354836e+14  2.629157e+16  \n",
            "8   5112431679  1.386221e+13  2.573071e+16  \n",
            "9   5131651791  3.132405e+14  2.582744e+16  \n",
            "10  4401918294  5.883146e+14  2.215471e+16  \n"
          ]
        }
      ]
    },
    {
      "cell_type": "code",
      "source": [
        "print(y)"
      ],
      "metadata": {
        "colab": {
          "base_uri": "https://localhost:8080/"
        },
        "id": "gMn57G8DQqQc",
        "outputId": "e23e1a78-a593-46de-8d52-aa52ec79ca53"
      },
      "execution_count": 22,
      "outputs": [
        {
          "output_type": "stream",
          "name": "stdout",
          "text": [
            "   Symbol\n",
            "0    AAVE\n",
            "1    AAVE\n",
            "2    AAVE\n",
            "3    AAVE\n",
            "4    AAVE\n",
            "5    AAVE\n",
            "6    AAVE\n",
            "7    AAVE\n",
            "8    AAVE\n",
            "9    AAVE\n",
            "10   AAVE\n"
          ]
        }
      ]
    },
    {
      "cell_type": "code",
      "source": [
        "from sklearn.compose import ColumnTransformer\n",
        "from sklearn.preprocessing import OneHotEncoder\n",
        "ct = ColumnTransformer(transformers=[('encoder', OneHotEncoder(), [0])], remainder='passthrough')\n",
        "x = np.array(ct.fit_transform(x))"
      ],
      "metadata": {
        "id": "nU145Hz9ZJ8W"
      },
      "execution_count": 28,
      "outputs": []
    },
    {
      "cell_type": "code",
      "source": [
        "print(x)"
      ],
      "metadata": {
        "colab": {
          "base_uri": "https://localhost:8080/"
        },
        "id": "PN9T3l6yaqEH",
        "outputId": "9481a1c3-cb00-4190-cbd6-2f9a73f43b2f"
      },
      "execution_count": 29,
      "outputs": [
        {
          "output_type": "stream",
          "name": "stdout",
          "text": [
            "[[1.0 0.0 0.0 0.0 0.0 0.0 0.0 0.0 0.0 0.0 0.0 'Aave'\n",
            "  Timestamp('2020-10-05 23:59:59') 5511235847 4978789992 5267503496\n",
            "  5321924296 0.0 8912812886084650.0]\n",
            " [0.0 1.0 0.0 0.0 0.0 0.0 0.0 0.0 0.0 0.0 0.0 'Aave'\n",
            "  Timestamp('2020-10-06 23:59:59') 5340227002 4073457791 5329196931\n",
            "  4240159861 5830914597628.0 7101144125451230.0]\n",
            " [0.0 0.0 1.0 0.0 0.0 0.0 0.0 0.0 0.0 0.0 0.0 'Aave'\n",
            "  Timestamp('2020-10-07 23:59:59') 4240831364 3597068975 4239994711\n",
            "  4008397561 68283418632335.0 6713003689981820.0]\n",
            " [0.0 0.0 0.0 1.0 0.0 0.0 0.0 0.0 0.0 0.0 0.0 'Aave'\n",
            "  Timestamp('2020-10-08 23:59:59') 4490251114 3669605677 3988526234\n",
            "  4376446306 165881692260445.0 2.20265142109567e+16]\n",
            " [0.0 0.0 0.0 0.0 1.0 0.0 0.0 0.0 0.0 0.0 0.0 'Aave'\n",
            "  Timestamp('2020-10-09 23:59:59') 4756953274 432917758 4376446306\n",
            "  4681774415 8155376607835.0 2.35632208162698e+16]\n",
            " [0.0 0.0 0.0 0.0 0.0 1.0 0.0 0.0 0.0 0.0 0.0 'Aave'\n",
            "  Timestamp('2020-10-10 23:59:59') 514056548 4670332768 4681814554\n",
            "  4913371767 107462702770495.0 2.47288428756169e+16]\n",
            " [0.0 0.0 0.0 0.0 0.0 0.0 1.0 0.0 0.0 0.0 0.0 'Aave'\n",
            "  Timestamp('2020-10-11 23:59:59') 5145337431 4871603954 4913312951\n",
            "  4966072573 69215060094118.0 2.49940843432422e+16]\n",
            " [0.0 0.0 0.0 0.0 0.0 0.0 0.0 1.0 0.0 0.0 0.0 'Aave'\n",
            "  Timestamp('2020-10-12 23:59:59') 5442141763 4875407708 4966157329\n",
            "  5223869222 135483606481028.0 2.62915666293072e+16]\n",
            " [0.0 0.0 0.0 0.0 0.0 0.0 0.0 0.0 1.0 0.0 0.0 'Aave'\n",
            "  Timestamp('2020-10-13 23:59:59') 5748190422 4959873521 5223839242\n",
            "  5112431679 13862212066711.0 2.57307050430801e+16]\n",
            " [0.0 0.0 0.0 0.0 0.0 0.0 0.0 0.0 0.0 1.0 0.0 'Aave'\n",
            "  Timestamp('2020-10-14 23:59:59') 5785394649 4962952942 5137289869\n",
            "  5131651791 313240542216768.0 2.58274392508111e+16]\n",
            " [0.0 0.0 0.0 0.0 0.0 0.0 0.0 0.0 0.0 0.0 1.0 'Aave'\n",
            "  Timestamp('2020-10-15 23:59:59') 5208068541 4401832531 5138760962\n",
            "  4401918294 588314606280652.0 2.21547139107277e+16]]\n"
          ]
        }
      ]
    },
    {
      "cell_type": "code",
      "source": [
        "from sklearn.preprocessing import LabelEncoder\n",
        "le = LabelEncoder()\n",
        "y = le.fit_transform(y)"
      ],
      "metadata": {
        "colab": {
          "base_uri": "https://localhost:8080/"
        },
        "id": "cMQLfzapSpH6",
        "outputId": "d0409b7a-12e4-467e-99a7-3f9a549db18c"
      },
      "execution_count": 26,
      "outputs": [
        {
          "output_type": "stream",
          "name": "stderr",
          "text": [
            "/usr/local/lib/python3.9/dist-packages/sklearn/preprocessing/_label.py:116: DataConversionWarning: A column-vector y was passed when a 1d array was expected. Please change the shape of y to (n_samples, ), for example using ravel().\n",
            "  y = column_or_1d(y, warn=True)\n"
          ]
        }
      ]
    },
    {
      "cell_type": "code",
      "source": [
        "print(y)"
      ],
      "metadata": {
        "colab": {
          "base_uri": "https://localhost:8080/"
        },
        "id": "y15wM3ufZCdJ",
        "outputId": "fe610c6d-256f-4568-b8c5-cf0b34c279d2"
      },
      "execution_count": 27,
      "outputs": [
        {
          "output_type": "stream",
          "name": "stdout",
          "text": [
            "[0 0 0 0 0 0 0 0 0 0 0]\n"
          ]
        }
      ]
    },
    {
      "cell_type": "code",
      "source": [
        "from sklearn.model_selection import train_test_split\n",
        "x_train, x_test, y_train, y_test = train_test_split(x, y, test_size=0.2, random_state=1)"
      ],
      "metadata": {
        "id": "2E4Nc6yKbAod"
      },
      "execution_count": 32,
      "outputs": []
    },
    {
      "cell_type": "code",
      "source": [
        "print(x_train)"
      ],
      "metadata": {
        "colab": {
          "base_uri": "https://localhost:8080/"
        },
        "id": "xrzdZcf6chEU",
        "outputId": "bf1ed4de-6b8a-4d36-e029-37092374e5d9"
      },
      "execution_count": 33,
      "outputs": [
        {
          "output_type": "stream",
          "name": "stdout",
          "text": [
            "[[0.0 0.0 0.0 0.0 0.0 0.0 0.0 0.0 0.0 1.0 0.0 'Aave'\n",
            "  Timestamp('2020-10-14 23:59:59') 5785394649 4962952942 5137289869\n",
            "  5131651791 313240542216768.0 2.58274392508111e+16]\n",
            " [0.0 1.0 0.0 0.0 0.0 0.0 0.0 0.0 0.0 0.0 0.0 'Aave'\n",
            "  Timestamp('2020-10-06 23:59:59') 5340227002 4073457791 5329196931\n",
            "  4240159861 5830914597628.0 7101144125451230.0]\n",
            " [0.0 0.0 0.0 0.0 0.0 0.0 1.0 0.0 0.0 0.0 0.0 'Aave'\n",
            "  Timestamp('2020-10-11 23:59:59') 5145337431 4871603954 4913312951\n",
            "  4966072573 69215060094118.0 2.49940843432422e+16]\n",
            " [1.0 0.0 0.0 0.0 0.0 0.0 0.0 0.0 0.0 0.0 0.0 'Aave'\n",
            "  Timestamp('2020-10-05 23:59:59') 5511235847 4978789992 5267503496\n",
            "  5321924296 0.0 8912812886084650.0]\n",
            " [0.0 0.0 0.0 0.0 0.0 0.0 0.0 1.0 0.0 0.0 0.0 'Aave'\n",
            "  Timestamp('2020-10-12 23:59:59') 5442141763 4875407708 4966157329\n",
            "  5223869222 135483606481028.0 2.62915666293072e+16]\n",
            " [0.0 0.0 0.0 0.0 0.0 0.0 0.0 0.0 0.0 0.0 1.0 'Aave'\n",
            "  Timestamp('2020-10-15 23:59:59') 5208068541 4401832531 5138760962\n",
            "  4401918294 588314606280652.0 2.21547139107277e+16]\n",
            " [0.0 0.0 0.0 0.0 0.0 0.0 0.0 0.0 1.0 0.0 0.0 'Aave'\n",
            "  Timestamp('2020-10-13 23:59:59') 5748190422 4959873521 5223839242\n",
            "  5112431679 13862212066711.0 2.57307050430801e+16]\n",
            " [0.0 0.0 0.0 0.0 0.0 1.0 0.0 0.0 0.0 0.0 0.0 'Aave'\n",
            "  Timestamp('2020-10-10 23:59:59') 514056548 4670332768 4681814554\n",
            "  4913371767 107462702770495.0 2.47288428756169e+16]]\n"
          ]
        }
      ]
    },
    {
      "cell_type": "code",
      "source": [
        "print(x_test)"
      ],
      "metadata": {
        "colab": {
          "base_uri": "https://localhost:8080/"
        },
        "id": "N0mGcFRxcsU9",
        "outputId": "1db7256b-d982-4f9e-89bb-03af4ba8e71a"
      },
      "execution_count": 34,
      "outputs": [
        {
          "output_type": "stream",
          "name": "stdout",
          "text": [
            "[[0.0 0.0 1.0 0.0 0.0 0.0 0.0 0.0 0.0 0.0 0.0 'Aave'\n",
            "  Timestamp('2020-10-07 23:59:59') 4240831364 3597068975 4239994711\n",
            "  4008397561 68283418632335.0 6713003689981820.0]\n",
            " [0.0 0.0 0.0 1.0 0.0 0.0 0.0 0.0 0.0 0.0 0.0 'Aave'\n",
            "  Timestamp('2020-10-08 23:59:59') 4490251114 3669605677 3988526234\n",
            "  4376446306 165881692260445.0 2.20265142109567e+16]\n",
            " [0.0 0.0 0.0 0.0 1.0 0.0 0.0 0.0 0.0 0.0 0.0 'Aave'\n",
            "  Timestamp('2020-10-09 23:59:59') 4756953274 432917758 4376446306\n",
            "  4681774415 8155376607835.0 2.35632208162698e+16]]\n"
          ]
        }
      ]
    },
    {
      "cell_type": "code",
      "source": [
        "print(y_train)"
      ],
      "metadata": {
        "colab": {
          "base_uri": "https://localhost:8080/"
        },
        "id": "2_Az4xMkcwT0",
        "outputId": "19bc036d-fe23-4ccb-c3dd-6b3bfc3762eb"
      },
      "execution_count": 35,
      "outputs": [
        {
          "output_type": "stream",
          "name": "stdout",
          "text": [
            "[0 0 0 0 0 0 0 0]\n"
          ]
        }
      ]
    },
    {
      "cell_type": "code",
      "source": [
        "print(y_test)"
      ],
      "metadata": {
        "colab": {
          "base_uri": "https://localhost:8080/"
        },
        "id": "N1SNDLYUczWr",
        "outputId": "d5efa214-ae73-472d-8ea7-c9430846bd5f"
      },
      "execution_count": 36,
      "outputs": [
        {
          "output_type": "stream",
          "name": "stdout",
          "text": [
            "[0 0 0]\n"
          ]
        }
      ]
    }
  ],
  "metadata": {
    "colab": {
      "provenance": []
    },
    "kernelspec": {
      "display_name": "Python 3",
      "name": "python3"
    }
  },
  "nbformat": 4,
  "nbformat_minor": 0
}